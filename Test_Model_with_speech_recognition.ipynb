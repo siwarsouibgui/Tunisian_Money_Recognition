{
 "cells": [
  {
   "cell_type": "markdown",
   "id": "89426081",
   "metadata": {},
   "source": [
    "To put the model to the test, we use speech recognition to assist blinds in obtaining currency recognition information provided by the model. "
   ]
  },
  {
   "cell_type": "code",
   "execution_count": null,
   "id": "47bdef70",
   "metadata": {},
   "outputs": [],
   "source": [
    "import cv2\n",
    "import numpy as np\n",
    "from keras.models import load_model\n",
    "from keras.initializers import glorot_uniform\n",
    "import speech_recognition as sr\n",
    "from gtts import gTTS\n",
    "import playsound\n",
    "import os\n",
    "import random"
   ]
  },
  {
   "cell_type": "code",
   "execution_count": null,
   "id": "ff1ca389",
   "metadata": {},
   "outputs": [],
   "source": [
    "model_filename = 'Tunisian_currency_recognition_model.h5'"
   ]
  },
  {
   "cell_type": "code",
   "execution_count": null,
   "id": "7630956b",
   "metadata": {},
   "outputs": [],
   "source": [
    "def alexis_speak(audio_string):\n",
    "    tts = gTTS(text= audio_string,lang='en')\n",
    "    r = random.randint(0,100000000)\n",
    "    audio_file = 'audio-'+str(r)+'.mp3'\n",
    "    tts.save(audio_file)\n",
    "    playsound.playsound(audio_file)\n",
    "    os.remove(audio_file)"
   ]
  },
  {
   "cell_type": "code",
   "execution_count": null,
   "id": "2532fda6",
   "metadata": {},
   "outputs": [],
   "source": [
    "model=load_model(model_filename,custom_objects={'GlorotUniform': glorot_uniform()},compile=False)"
   ]
  },
  {
   "cell_type": "code",
   "execution_count": null,
   "id": "9f6b48f8",
   "metadata": {},
   "outputs": [],
   "source": [
    "labels = [\"10Dinars\",\"20Dinars\"]"
   ]
  },
  {
   "cell_type": "markdown",
   "id": "b50b7eb5",
   "metadata": {},
   "source": [
    "You can try this code with your computer camera after downloading it. "
   ]
  },
  {
   "cell_type": "code",
   "execution_count": null,
   "id": "b9352d91",
   "metadata": {},
   "outputs": [],
   "source": [
    "# Here,we use the computer's embedded camera.\n",
    "\n",
    "cap=cv2.VideoCapture(0)\n",
    "r = sr.Recognizer()\n",
    "while True:\n",
    "    with sr.Microphone() as source:\n",
    "        alexis_speak(\"how can I help you\")\n",
    "        audio = r.listen(source)\n",
    "        print(\"listen\")\n",
    "        try:\n",
    "            text = r.recognize_google(audio)\n",
    "            print(text)\n",
    "            if (text == \"stop\"):\n",
    "                break\n",
    "            else:\n",
    "                alexis_speak(\"You said\"+format(text))\n",
    "                if (text == \"what do you see\"):\n",
    "                     alexis_speak(\"Wait for second\")\n",
    "                     while True:\n",
    "                         __,frame=cap.read()\n",
    "                         gray=cv2.cvtColor(frame,cv2.COLOR_BGR2GRAY)\n",
    "                         gray=cv2.resize(gray,(80,80))\n",
    "                         gray=np.array(gray)/255.0\n",
    "                         img_vector = np.empty((0,))\n",
    "                         for i in range(len(gray)):    \n",
    "                             img_vector = np.r_[img_vector,gray[i,:]]\n",
    "                         img_vector = img_vector.reshape(1,-1)\n",
    "                         prob = model.predict(img_vector)[0]\n",
    "                         index=np.argmax(prob)\n",
    "                         probability=prob[index]*100\n",
    "                         classe=labels[index]\n",
    "                         text=\"{} : {}\".format(classe,probability)\n",
    "                         print(text)\n",
    "                         alexis_speak(classe)\n",
    "                         cv2.imshow(\"Tunisian_currency_recognition\",frame)\n",
    "                         wait=cv2.waitKey(1)\n",
    "                         if wait==ord(\"q\"):\n",
    "                             break\n",
    "                  \n",
    "        except:\n",
    "             alexis_speak(\"Sorry could not recognize what you said\")\n",
    "  \n",
    "cap.release()  \n",
    "cv2.destroyAllWindows()"
   ]
  }
 ],
 "metadata": {
  "kernelspec": {
   "display_name": "Python 3",
   "language": "python",
   "name": "python3"
  },
  "language_info": {
   "codemirror_mode": {
    "name": "ipython",
    "version": 3
   },
   "file_extension": ".py",
   "mimetype": "text/x-python",
   "name": "python",
   "nbconvert_exporter": "python",
   "pygments_lexer": "ipython3",
   "version": "3.8.8"
  }
 },
 "nbformat": 4,
 "nbformat_minor": 5
}
